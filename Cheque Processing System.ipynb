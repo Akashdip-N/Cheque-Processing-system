{
 "cells": [
  {
   "cell_type": "code",
   "execution_count": 116,
   "metadata": {},
   "outputs": [
    {
     "name": "stdout",
     "output_type": "stream",
     "text": [
      "Requirement already satisfied: psycopg2-binary in /opt/anaconda3/envs/Cheque-Processing-system/lib/python3.10/site-packages (from -r requirements.txt (line 1)) (2.9.9)\n"
     ]
    }
   ],
   "source": [
    "!pip install -r requirements.txt"
   ]
  },
  {
   "cell_type": "code",
   "execution_count": 117,
   "metadata": {},
   "outputs": [],
   "source": [
    "import psycopg2                                         # psycopg2 for connecting to the database   \n",
    "from psycopg2 import Error                              # Error handling for psycopg2                        "
   ]
  },
  {
   "cell_type": "code",
   "execution_count": 118,
   "metadata": {},
   "outputs": [],
   "source": [
    "# Setting the database and table name before preprocessing \n",
    "\n",
    "database_name = \"cheque_processing_system\"\n",
    "drawee_bank_table = \"Drawee_bank\"\n",
    "beneficiary_bank_table = \"Beneficiary_bank\""
   ]
  },
  {
   "cell_type": "code",
   "execution_count": 119,
   "metadata": {},
   "outputs": [],
   "source": [
    "# PostgreSQL connection credentials\n",
    "\n",
    "db_params = {\n",
    "    \"user\" :\"postgres\",         # username\n",
    "    \"password\" : \"1234\",        # password\n",
    "    \"host\" : \"localhost\",       # host\n",
    "    \"port\" : \"5432\"             # port\n",
    "}"
   ]
  },
  {
   "cell_type": "code",
   "execution_count": 120,
   "metadata": {},
   "outputs": [
    {
     "name": "stdout",
     "output_type": "stream",
     "text": [
      "cheque_processing_system does not exist, creating one\n",
      "PostgreSQL connection is closed\n"
     ]
    }
   ],
   "source": [
    "database = False\n",
    "try:\n",
    "    connection = psycopg2.connect(**db_params) # type: ignore\n",
    "    cursor = connection.cursor()\n",
    "    cursor.execute(f\"SELECT 1 FROM pg_database WHERE datname = '{database_name}';\")\n",
    "    result = cursor.fetchone()\n",
    "    if result:\n",
    "        print(f\"{database_name} already exists!\")\n",
    "    else:\n",
    "        print(f\"{database_name} does not exist, creating one\")\n",
    "        database = True\n",
    "except (Exception, Error) as error:\n",
    "    print(\"Error while connecting to PostgreSQL\", error)\n",
    "    exit()\n",
    "finally:\n",
    "    cursor.close()\n",
    "    connection.close()\n",
    "    print(\"PostgreSQL connection is closed\")"
   ]
  },
  {
   "cell_type": "code",
   "execution_count": 121,
   "metadata": {},
   "outputs": [
    {
     "name": "stdout",
     "output_type": "stream",
     "text": [
      "Database created successfully\n",
      "PostgreSQL connection is closed\n"
     ]
    }
   ],
   "source": [
    "if database == True:\n",
    "    try:\n",
    "        connection = psycopg2.connect(**db_params)  # type: ignore\n",
    "        connection.autocommit = True\n",
    "        cursor = connection.cursor()\n",
    "        cursor.execute(f\"CREATE DATABASE {database_name}\")\n",
    "    except (Exception, Error) as error:\n",
    "        print(\"Error while connecting to PostgreSQL\", error)\n",
    "        exit()\n",
    "    finally:\n",
    "        cursor.close()\n",
    "        connection.commit()\n",
    "        connection.close()\n",
    "        print(\"Database created successfully\")\n",
    "        print(\"PostgreSQL connection is closed\")\n",
    "else:\n",
    "    print(f\"{database_name} already exists\")\n",
    "\n",
    "db_params = {\n",
    "    \"user\": \"postgres\",\n",
    "    \"password\": \"1234\",\n",
    "    \"host\": \"localhost\",\n",
    "    \"port\": \"5432\",\n",
    "    \"database\": database_name\n",
    "}"
   ]
  },
  {
   "cell_type": "code",
   "execution_count": 122,
   "metadata": {},
   "outputs": [],
   "source": [
    "table = False\n",
    "def check_table(table_name):\n",
    "    table = False\n",
    "    try:\n",
    "        connection = psycopg2.connect(**db_params) # type: ignore\n",
    "        cursor = connection.cursor()\n",
    "        cursor.execute(f\"SELECT EXISTS (SELECT 1 FROM information_schema.tables WHERE table_name = '{table_name}');\")\n",
    "        result = cursor.fetchone()[0]\n",
    "        if result:\n",
    "            print(f\"Table '{table_name}' exists.\")\n",
    "        else:\n",
    "            table = True\n",
    "            print(f\"Table '{table_name}' does not exist, creating one\")\n",
    "    except (Exception, Error) as error:\n",
    "        print(\"Error while connecting to PostgreSQL\", error)\n",
    "        exit()\n",
    "    finally:\n",
    "        cursor.close()\n",
    "        connection.commit()\n",
    "        connection.close()\n",
    "        print(\"PostgreSQL connection is closed\")\n",
    "    return table"
   ]
  },
  {
   "cell_type": "code",
   "execution_count": 123,
   "metadata": {},
   "outputs": [],
   "source": [
    "def create_table(table_name):\n",
    "    create_table_sql = f\"\"\"\n",
    "    CREATE TABLE {table_name} (\n",
    "        id SERIAL PRIMARY KEY,\n",
    "        name VARCHAR(100) NOT NULL,\n",
    "        account_number VARCHAR(20) NOT NULL UNIQUE,\n",
    "        balance NUMERIC(12, 2) NOT NULL\n",
    "    );\n",
    "    \"\"\"\n",
    "    table = check_table(table_name)\n",
    "    if table == True:\n",
    "        try:\n",
    "            connection = psycopg2.connect(**db_params)  # type: ignore\n",
    "        except (Exception, Error) as error:\n",
    "            print(\"Error while connecting to PostgreSQL\", error)\n",
    "            exit()\n",
    "        else:\n",
    "            cursor = connection.cursor()\n",
    "            cursor.execute(create_table_sql)\n",
    "            print(\"Table created successfully\")\n",
    "        finally:\n",
    "            cursor.close()\n",
    "            connection.commit()\n",
    "            connection.close()\n",
    "            print(\"PostgreSQL connection is closed\")\n",
    "    else:\n",
    "        print(f\"Table '{table_name}' already exists\")"
   ]
  },
  {
   "cell_type": "code",
   "execution_count": 124,
   "metadata": {},
   "outputs": [],
   "source": [
    "def insert_data_onto_table (table_name, data):\n",
    "    \n",
    "    columns = ['name', 'account_number', 'balance']\n",
    "    placeholders = ', '.join(['%s'] * len(columns))\n",
    "    columns_str = ', '.join(columns)\n",
    "    \n",
    "    insert_sql = f\"\"\"\n",
    "        INSERT INTO {table_name} ({columns_str})\n",
    "        VALUES ({placeholders})\n",
    "    \"\"\"\n",
    "    \n",
    "    try:\n",
    "        connection = psycopg2.connect(**db_params)  # type: ignore\n",
    "        cursor = connection.cursor()\n",
    "        \n",
    "        cursor.execute(f\"select count(*) from {table_name};\")\n",
    "        if cursor.fetchone()[0] == 0:\n",
    "            cursor.executemany(insert_sql, data)\n",
    "            connection.commit()\n",
    "            print(\"Data inserted successfully into the {table_name} table.\")\n",
    "        else:\n",
    "            print(f\"Data already exists in the {table_name} table.\")\n",
    "    except (Exception, Error) as error:\n",
    "        print(\"Error inserting data into {table_name} table:\", error)\n",
    "    finally:\n",
    "        cursor.close()\n",
    "        connection.commit()\n",
    "        connection.close()\n",
    "        print(\"PostgreSQL connection is closed.\")"
   ]
  },
  {
   "cell_type": "code",
   "execution_count": 125,
   "metadata": {},
   "outputs": [],
   "source": [
    "drawer_data = [\n",
    "    ('Alice Johnson', 'ACC123456789', 1200.50),\n",
    "    ('Bob Smith', 'ACC987654321', 2450.75),\n",
    "    ('Charlie Brown', 'ACC555666777', 3600.00),\n",
    "    ('Diana Prince', 'ACC111222333', 750.30),\n",
    "    ('Ethan Hunt', 'ACC444555666', 1800.00),\n",
    "    ('Frank Castle', 'ACC888999000', 2100.20),\n",
    "    ('Grace Hopper', 'ACC777888999', 5400.40),\n",
    "    ('Hank Pym', 'ACC112233445', 3900.00),\n",
    "    ('Irene Adler', 'ACC998877665', 500.00),\n",
    "    ('James Bond', 'ACC007007007', 7000.70),\n",
    "    ('Karen Page', 'ACC123789456', 3100.90),\n",
    "    ('Luke Cage', 'ACC654321987', 850.00),\n",
    "    ('Matt Murdock', 'ACC147258369', 6700.10),\n",
    "    ('Nancy Drew', 'ACC369258147', 4200.80),\n",
    "    ('Oliver Queen', 'ACC741852963', 5600.25),\n",
    "    ('Pam Beesly', 'ACC963852741', 950.75),\n",
    "    ('Quinn Mallory', 'ACC258369147', 2300.60),\n",
    "    ('Rachel Green', 'ACC456123789', 670.20),\n",
    "    ('Steve Rogers', 'ACC963741852', 8900.50),\n",
    "    ('Tony Stark', 'ACC852963741', 100000.00)\n",
    "]"
   ]
  },
  {
   "cell_type": "code",
   "execution_count": 126,
   "metadata": {},
   "outputs": [],
   "source": [
    "beneficiary_data = [\n",
    "    ('John Doe', 'BEN123456789', 1500.75),\n",
    "    ('Jane Smith', 'BEN987654321', 3200.50),\n",
    "    ('Michael Johnson', 'BEN555666777', 4500.25),\n",
    "    ('Emily Davis', 'BEN111222333', 1800.60),\n",
    "    ('William Brown', 'BEN444555666', 2100.10),\n",
    "    ('Olivia Wilson', 'BEN888999000', 3000.00),\n",
    "    ('Sophia Moore', 'BEN777888999', 5500.85),\n",
    "    ('Lucas Taylor', 'BEN112233445', 2900.40),\n",
    "    ('Mia Anderson', 'BEN998877665', 1200.30),\n",
    "    ('Noah Thomas', 'BEN007007007', 7400.00),\n",
    "    ('Ava Martinez', 'BEN123789456', 4000.90),\n",
    "    ('James Garcia', 'BEN654321987', 850.50),\n",
    "    ('Isabella Rodriguez', 'BEN147258369', 6700.20),\n",
    "    ('Ethan Martinez', 'BEN369258147', 5300.15),\n",
    "    ('Charlotte Wilson', 'BEN741852963', 6200.00),\n",
    "    ('Benjamin Harris', 'BEN963852741', 1200.00),\n",
    "    ('Amelia Clark', 'BEN258369147', 3400.30),\n",
    "    ('Alexander Lewis', 'BEN456123789', 7100.25),\n",
    "    ('Lily Walker', 'BEN963741852', 8900.40),\n",
    "    ('Jack Young', 'BEN852963741', 10000.00)\n",
    "]\n",
    "    "
   ]
  },
  {
   "cell_type": "code",
   "execution_count": 127,
   "metadata": {},
   "outputs": [
    {
     "name": "stdout",
     "output_type": "stream",
     "text": [
      "Table 'Drawee_bank' does not exist, creating one\n",
      "PostgreSQL connection is closed\n",
      "Table created successfully\n",
      "PostgreSQL connection is closed\n",
      "Table 'Beneficiary_bank' does not exist, creating one\n",
      "PostgreSQL connection is closed\n",
      "Table created successfully\n",
      "PostgreSQL connection is closed\n"
     ]
    }
   ],
   "source": [
    "create_table(drawee_bank_table)\n",
    "create_table(beneficiary_bank_table)\n"
   ]
  },
  {
   "cell_type": "code",
   "execution_count": 128,
   "metadata": {},
   "outputs": [
    {
     "name": "stdout",
     "output_type": "stream",
     "text": [
      "Data inserted successfully into the {table_name} table.\n",
      "PostgreSQL connection is closed.\n",
      "Data inserted successfully into the {table_name} table.\n",
      "PostgreSQL connection is closed.\n"
     ]
    }
   ],
   "source": [
    "insert_data_onto_table(drawee_bank_table, drawer_data)\n",
    "insert_data_onto_table(beneficiary_bank_table, beneficiary_data)"
   ]
  },
  {
   "cell_type": "code",
   "execution_count": 129,
   "metadata": {},
   "outputs": [],
   "source": [
    "def cash_transfer(drawee_account, drawee_name, beneficiary_account, amount):\n",
    "    try:\n",
    "        # Connect to PostgreSQL database\n",
    "        connection = psycopg2.connect(**db_params)  # type: ignore\n",
    "        cursor = connection.cursor()\n",
    "        \n",
    "        # Check drawee's details\n",
    "        cursor.execute(f\"\"\"\n",
    "            SELECT name, balance FROM {drawee_bank_table}\n",
    "            WHERE account_number = %s;\n",
    "        \"\"\", (drawee_account,))\n",
    "        drawee = cursor.fetchone()\n",
    "        \n",
    "        if not drawee:\n",
    "            print(\"Drawee account not found.\")\n",
    "            return\n",
    "        \n",
    "        if drawee[0] != drawee_name:\n",
    "            print(\"Drawee name does not match.\")\n",
    "            return\n",
    "        \n",
    "        drawee_balance = drawee[1]\n",
    "        print(f\"Drawee's current balance: {drawee_balance:.2f}\")\n",
    "        \n",
    "        if drawee_balance < amount:\n",
    "            print(\"Insufficient funds in drawee's account.\")\n",
    "            return\n",
    "        \n",
    "        # Calculate new balances\n",
    "        new_drawee_balance = drawee_balance - amount\n",
    "        \n",
    "        # Update drawee's balance\n",
    "        cursor.execute(f\"\"\"\n",
    "            UPDATE {drawee_bank_table}\n",
    "            SET balance = %s\n",
    "            WHERE account_number = %s;\n",
    "        \"\"\", (new_drawee_balance, drawee_account))\n",
    "        \n",
    "        # Commit the transaction\n",
    "        connection.commit()\n",
    "        \n",
    "        # Print balance before and after the transaction\n",
    "        print(f\"Cash given to {beneficiary_account}.\")\n",
    "        print(f\"Drawee's balance before transaction: {drawee_balance:.2f}\")\n",
    "        print(f\"Drawee's balance after transaction: {new_drawee_balance:.2f}\")\n",
    "    \n",
    "    except (Exception, Error) as error:\n",
    "        # Rollback the transaction in case of an error\n",
    "        if connection:\n",
    "            connection.rollback()\n",
    "        print(\"Error during fund transfer:\", error)\n",
    "    \n",
    "    finally:\n",
    "        # Ensure the cursor and connection are properly closed\n",
    "        cursor.close()\n",
    "        connection.close()\n",
    "        print(\"Transaction completed.\")"
   ]
  },
  {
   "cell_type": "code",
   "execution_count": 130,
   "metadata": {},
   "outputs": [],
   "source": [
    "def bank_transfer(drawee_account, drawee_name, beneficiary_name, beneficiary_account, amount):\n",
    "    try:\n",
    "        # Connect to PostgreSQL database\n",
    "        connection = psycopg2.connect(**db_params)  # type: ignore\n",
    "        cursor = connection.cursor()\n",
    "        \n",
    "        # Fetch drawee's details\n",
    "        cursor.execute(f\"\"\"\n",
    "            SELECT name, account_number, balance FROM {drawee_bank_table}\n",
    "            WHERE account_number = %s;\n",
    "        \"\"\", (drawee_account,))\n",
    "        drawee = cursor.fetchone()\n",
    "        \n",
    "        if not drawee:\n",
    "            print(\"Drawee account not found.\")\n",
    "            return\n",
    "        \n",
    "        if drawee[0] != drawee_name:\n",
    "            print(\"Drawee name does not match.\")\n",
    "            return\n",
    "        \n",
    "        drawee_balance = drawee[2]\n",
    "        print(f\"Drawee's balance before transaction: {drawee_balance:.2f}\")\n",
    "        \n",
    "        if drawee_balance < amount:\n",
    "            print(\"Insufficient funds in drawee's account.\")\n",
    "            return\n",
    "        \n",
    "        # Fetch beneficiary's details\n",
    "        cursor.execute(f\"\"\"\n",
    "            SELECT name, account_number, balance FROM {drawee_bank_table}\n",
    "            WHERE account_number = %s;\n",
    "        \"\"\", (beneficiary_account,))\n",
    "        beneficiary = cursor.fetchone()\n",
    "        \n",
    "        if not beneficiary:\n",
    "            print(\"Beneficiary account not found.\")\n",
    "            return\n",
    "        \n",
    "        if beneficiary[0] != beneficiary_name:\n",
    "            print(\"Beneficiary name does not match.\")\n",
    "            return\n",
    "        \n",
    "        if beneficiary[1] != beneficiary_account:\n",
    "            print(\"Beneficiary account number does not match.\")\n",
    "            return\n",
    "        \n",
    "        beneficiary_balance = beneficiary[2]\n",
    "        print(f\"Beneficiary's balance before transaction: {beneficiary_balance:.2f}\")\n",
    "        \n",
    "        # Calculate new balances\n",
    "        new_drawee_balance = drawee_balance - amount\n",
    "        new_beneficiary_balance = beneficiary_balance + amount\n",
    "        \n",
    "        # Update drawee's balance\n",
    "        cursor.execute(f\"\"\"\n",
    "            UPDATE {drawee_bank_table}\n",
    "            SET balance = %s\n",
    "            WHERE account_number = %s;\n",
    "        \"\"\", (new_drawee_balance, drawee_account))\n",
    "        \n",
    "        # Update beneficiary's balance\n",
    "        cursor.execute(f\"\"\"\n",
    "            UPDATE {drawee_bank_table}\n",
    "            SET balance = %s\n",
    "            WHERE account_number = %s;\n",
    "        \"\"\", (new_beneficiary_balance, beneficiary_account))\n",
    "        \n",
    "        # Commit the transaction\n",
    "        connection.commit()\n",
    "        \n",
    "        # Print balance after the transaction\n",
    "        print(f\"Funds successfully transferred from account {drawee_name} to account {beneficiary_name}.\")\n",
    "        print(f\"Drawee's balance after transaction: {new_drawee_balance:.2f}\")\n",
    "        print(f\"Beneficiary's balance after transaction: {new_beneficiary_balance:.2f}\")\n",
    "    \n",
    "    except (Exception, Error) as error:\n",
    "        # Rollback the transaction in case of an error\n",
    "        if connection:\n",
    "            connection.rollback()\n",
    "        print(\"Error during bank transfer:\", error)\n",
    "    \n",
    "    finally:\n",
    "        # Ensure the cursor and connection are properly closed\n",
    "        if cursor:\n",
    "            cursor.close()\n",
    "        if connection:\n",
    "            connection.close()\n",
    "        print(\"Transaction completed.\")"
   ]
  },
  {
   "cell_type": "code",
   "execution_count": 131,
   "metadata": {},
   "outputs": [],
   "source": [
    "def EFT_method(drawee_name, drawee_account, beneficiary_name, beneficiary_account, amount):\n",
    "    try:\n",
    "        # Connect to PostgreSQL database\n",
    "        connection = psycopg2.connect(**db_params)  # type: ignore\n",
    "        cursor = connection.cursor()\n",
    "        \n",
    "        # Fetch drawee's details\n",
    "        cursor.execute(f\"\"\"\n",
    "            SELECT name, account_number, balance FROM {drawee_bank_table}\n",
    "            WHERE account_number = %s;\n",
    "        \"\"\", (drawee_account,))\n",
    "        drawee = cursor.fetchone()\n",
    "\n",
    "        if not drawee:\n",
    "            print(\"Drawee account not found.\")\n",
    "            return\n",
    "        \n",
    "        if drawee[0] != drawee_name:\n",
    "            print(\"Drawee name does not match.\")\n",
    "            return\n",
    "        \n",
    "        drawee_balance = drawee[2]\n",
    "        print(f\"Drawee's balance before transaction: {drawee_balance:.2f}\")\n",
    "        \n",
    "        if drawee_balance < amount:\n",
    "            print(\"Insufficient funds in drawee's account.\")\n",
    "            return\n",
    "        \n",
    "        # Fetch beneficiary's details\n",
    "        cursor.execute(f\"\"\"\n",
    "            SELECT name, account_number, balance FROM {beneficiary_bank_table}\n",
    "            WHERE account_number = %s;\n",
    "        \"\"\", (beneficiary_account,))\n",
    "        beneficiary = cursor.fetchone()\n",
    "        \n",
    "        if not beneficiary:\n",
    "            print(\"Beneficiary account not found.\")\n",
    "            return\n",
    "        \n",
    "        if beneficiary[0] != beneficiary_name:\n",
    "            print(\"Beneficiary name does not match.\")\n",
    "            return\n",
    "        \n",
    "        if beneficiary[1] != beneficiary_account:\n",
    "            print(\"Beneficiary account number does not match.\")\n",
    "            return\n",
    "        \n",
    "        beneficiary_balance = beneficiary[2]\n",
    "        print(f\"Beneficiary's balance before transaction: {beneficiary_balance:.2f}\")\n",
    "        \n",
    "        # Calculate new balances\n",
    "        new_drawee_balance = drawee_balance - amount\n",
    "        new_beneficiary_balance = beneficiary_balance + amount\n",
    "        \n",
    "        # Update drawee's balance\n",
    "        cursor.execute(f\"\"\"\n",
    "            UPDATE {drawee_bank_table}\n",
    "            SET balance = %s\n",
    "            WHERE account_number = %s;\n",
    "        \"\"\", (new_drawee_balance, drawee_account))\n",
    "        \n",
    "        # Update beneficiary's balance\n",
    "        cursor.execute(f\"\"\"\n",
    "            UPDATE {beneficiary_bank_table}\n",
    "            SET balance = %s\n",
    "            WHERE account_number = %s;\n",
    "        \"\"\", (new_beneficiary_balance, beneficiary_account))\n",
    "        \n",
    "        # Commit the transaction\n",
    "        connection.commit()\n",
    "        \n",
    "        # Print balance after the transaction\n",
    "        print(f\"Funds successfully transferred from account {drawee_name} to account {beneficiary_name}.\")\n",
    "        print(f\"Drawee's balance after transaction: {new_drawee_balance:.2f}\")\n",
    "        print(f\"Beneficiary's balance after transaction: {new_beneficiary_balance:.2f}\")\n",
    "    \n",
    "    except (Exception, Error) as error:\n",
    "        # Rollback the transaction in case of an error\n",
    "        if connection:\n",
    "            connection.rollback()\n",
    "        print(\"Error during bank transfer:\", error)\n",
    "    \n",
    "    finally:\n",
    "        # Ensure the cursor and connection are properly closed\n",
    "        if cursor:\n",
    "            cursor.close()\n",
    "        if connection:\n",
    "            connection.close()\n",
    "        print(\"Transaction completed.\")"
   ]
  },
  {
   "cell_type": "code",
   "execution_count": 132,
   "metadata": {},
   "outputs": [
    {
     "name": "stdout",
     "output_type": "stream",
     "text": [
      "Drawee's current balance: 1200.50\n",
      "Cash given to John Doe.\n",
      "Drawee's balance before transaction: 1200.50\n",
      "Drawee's balance after transaction: 1100.50\n",
      "Transaction completed.\n"
     ]
    }
   ],
   "source": [
    "# Sample input for cash transfer, data exttracted using OCR\n",
    "beneficiary_name = \"John Doe\"\n",
    "\n",
    "drawer_name = \"Alice Johnson\"\n",
    "account_number_drawer = \"ACC123456789\"\n",
    "amount = 100\n",
    "\n",
    "\n",
    "cash_transfer(account_number_drawer, drawer_name, beneficiary_name, amount)"
   ]
  },
  {
   "cell_type": "code",
   "execution_count": 133,
   "metadata": {},
   "outputs": [
    {
     "name": "stdout",
     "output_type": "stream",
     "text": [
      "Drawee name does not match.\n",
      "Transaction completed.\n"
     ]
    }
   ],
   "source": [
    "# Sample input where the drawer name is incorrect for cash transfer, data exttracted using OCR\n",
    "beneficiary_name = \"John Doe\"\n",
    "\n",
    "drawer_name = \"Alicea Johnson\"                        # we have changed the drawer name\n",
    "account_number_drawer = \"ACC123456789\"\n",
    "amount = 500\n",
    "\n",
    "\n",
    "cash_transfer(account_number_drawer, drawer_name, beneficiary_name, amount)"
   ]
  },
  {
   "cell_type": "code",
   "execution_count": 134,
   "metadata": {},
   "outputs": [
    {
     "name": "stdout",
     "output_type": "stream",
     "text": [
      "Drawee's balance before transaction: 2450.75\n",
      "Beneficiary's balance before transaction: 750.30\n",
      "Funds successfully transferred from account Bob Smith to account Diana Prince.\n",
      "Drawee's balance after transaction: 1950.75\n",
      "Beneficiary's balance after transaction: 1250.30\n",
      "Transaction completed.\n"
     ]
    }
   ],
   "source": [
    "# sample input data for bank transfer, within the bank, data exttracted using OCR\n",
    "beneficiary_name = \"Diana Prince\"\n",
    "beneficiary_account_number = \"ACC111222333\"\n",
    "\n",
    "drawer_name = \"Bob Smith\"\n",
    "account_number_drawer = \"ACC987654321\"\n",
    "amount = 500\n",
    "\n",
    "bank_transfer(account_number_drawer, drawer_name, beneficiary_name, beneficiary_account_number, amount)\n"
   ]
  },
  {
   "cell_type": "code",
   "execution_count": 135,
   "metadata": {},
   "outputs": [
    {
     "name": "stdout",
     "output_type": "stream",
     "text": [
      "Drawee name does not match.\n",
      "Transaction completed.\n"
     ]
    }
   ],
   "source": [
    "# sample incorrect input data for bank transfer, within the bank, data exttracted using OCR\n",
    "beneficiary_name = \"Diana Prince\"\n",
    "beneficiary_account_number = \"ACC111222333\"\n",
    "\n",
    "drawer_name = \"Bobi Smith\"                              # we have changed the name\n",
    "account_number_drawer = \"ACC987654321\"\n",
    "amount = 500\n",
    "\n",
    "bank_transfer(account_number_drawer, drawer_name, beneficiary_name, beneficiary_account_number, amount)\n"
   ]
  },
  {
   "cell_type": "code",
   "execution_count": 136,
   "metadata": {},
   "outputs": [
    {
     "name": "stdout",
     "output_type": "stream",
     "text": [
      "Drawee's balance before transaction: 5600.25\n",
      "Beneficiary's balance before transaction: 1200.30\n",
      "Funds successfully transferred from account Oliver Queen to account Mia Anderson.\n",
      "Drawee's balance after transaction: 5100.25\n",
      "Beneficiary's balance after transaction: 1700.30\n",
      "Transaction completed.\n"
     ]
    }
   ],
   "source": [
    "# sample data for EFT method, data exttracted using OCR\n",
    "beneficiary_name = \"Mia Anderson\"\n",
    "beneficiary_account_number = \"BEN998877665\"\n",
    "\n",
    "drawer_name = \"Oliver Queen\"\n",
    "account_number_drawer = \"ACC741852963\"\n",
    "amount = 500\n",
    "\n",
    "EFT_method(drawer_name, account_number_drawer, beneficiary_name, beneficiary_account_number, amount)"
   ]
  },
  {
   "cell_type": "code",
   "execution_count": 137,
   "metadata": {},
   "outputs": [
    {
     "name": "stdout",
     "output_type": "stream",
     "text": [
      "Drawee's balance before transaction: 5100.25\n",
      "Beneficiary name does not match.\n",
      "Transaction completed.\n"
     ]
    }
   ],
   "source": [
    "# sample data for EFT method, data exttracted using OCR\n",
    "beneficiary_name = \"Mika Anderson\"                              # we have changed the name\n",
    "beneficiary_account_number = \"BEN998877665\"\n",
    "\n",
    "drawer_name = \"Oliver Queen\"\n",
    "account_number_drawer = \"ACC741852963\"\n",
    "amount = 500\n",
    "\n",
    "EFT_method(drawer_name, account_number_drawer, beneficiary_name, beneficiary_account_number, amount)"
   ]
  }
 ],
 "metadata": {
  "kernelspec": {
   "display_name": "Cheque-Processing-system",
   "language": "python",
   "name": "python3"
  },
  "language_info": {
   "codemirror_mode": {
    "name": "ipython",
    "version": 3
   },
   "file_extension": ".py",
   "mimetype": "text/x-python",
   "name": "python",
   "nbconvert_exporter": "python",
   "pygments_lexer": "ipython3",
   "version": "3.10.14"
  }
 },
 "nbformat": 4,
 "nbformat_minor": 2
}
